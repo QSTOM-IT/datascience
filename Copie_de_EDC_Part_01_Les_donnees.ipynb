{
  "nbformat": 4,
  "nbformat_minor": 0,
  "metadata": {
    "colab": {
      "name": "Copie de EDC- Part 01 - Les donnees.ipynb",
      "provenance": [],
      "collapsed_sections": [],
      "toc_visible": true,
      "authorship_tag": "ABX9TyNRuxpHfLrgGY+oIrB915cu",
      "include_colab_link": true
    },
    "kernelspec": {
      "name": "python3",
      "display_name": "Python 3"
    }
  },
  "cells": [
    {
      "cell_type": "markdown",
      "metadata": {
        "id": "view-in-github",
        "colab_type": "text"
      },
      "source": [
        "<a href=\"https://colab.research.google.com/github/QSTOM-IT/datascience/blob/master/Copie_de_EDC_Part_01_Les_donnees.ipynb\" target=\"_parent\"><img src=\"https://colab.research.google.com/assets/colab-badge.svg\" alt=\"Open In Colab\"/></a>"
      ]
    },
    {
      "cell_type": "markdown",
      "metadata": {
        "id": "81bMO0XJhnGJ"
      },
      "source": [
        "# **DATA SCIENCE | MACHINE LEARNING | DEEP LEARNING : ETUDE DE CAS**\r\n",
        "> Aurélien VANNIEUWENHUYZE pour Qstom-IT - wwww.qstom-it.com\r\n",
        "\r\n"
      ]
    },
    {
      "cell_type": "markdown",
      "metadata": {
        "id": "Bmtqze_FrYFg"
      },
      "source": [
        "### **0: DESCRIPTION DE L'ETUDE DE CAS**\r\n",
        "\r\n",
        "#### **Les objectifs visés**\r\n",
        "L'objectif de cette étude de cas est de mettre en pratique les notions de statistiques, de Machine Learning et de Deep Learning.\r\n",
        "\r\n",
        "#### **A qui s'adresse cette étude de cas ?**\r\n",
        "Cette étude de cas s'adresse à toute personne souhaitant découvrir la mise en oeuvre de la Data Science à travers un projet 100% pratique.\r\n",
        "\r\n",
        "#### **Quels sont les pré-requis ?**\r\n",
        "Quelques notions de programmation en langage python, en Machine Learning et en Deep Learning sont requise pour apréhender sereinement cette étude de cas.\r\n",
        "\r\n",
        "#### **Methodes pédagogique**\r\n",
        "Cette étude de cas est réalisée en plusieurs étapes devant être réalisées dans l'ordre afin de bien comprendre les concepts énoncés. \r\n",
        "\r\n",
        "#### **Données est objectifs à atteindre**\r\n",
        "Le dataset utilisé contient des informations sur les clients d'une compagnie bancaire. Il contient :\r\n",
        "- 1000 dossiers de crédit à la consommation dont 300 avec impayés.\r\n",
        "\r\n",
        "L'objectif de cette étude cas est de proposer un outil d'aide à l'accord de crédit.\r\n"
      ]
    },
    {
      "cell_type": "markdown",
      "metadata": {
        "id": "7mdCCXD_wJwE"
      },
      "source": [
        "\r\n",
        "\r\n",
        "---\r\n",
        "\r\n"
      ]
    },
    {
      "cell_type": "markdown",
      "metadata": {
        "id": "WYgXmC33iag5"
      },
      "source": [
        "### **1: CHARGEMENT DU FICHIER DE DONNEES DEPUIS LE WEB**"
      ]
    },
    {
      "cell_type": "code",
      "metadata": {
        "colab": {
          "base_uri": "https://localhost:8080/"
        },
        "id": "0X0YioUniqkO",
        "outputId": "a77e1f94-2107-45ea-8e89-1443c513ac55"
      },
      "source": [
        "\r\n",
        "#Le fichier sera télécharger dans le répertoire /content/dataset.data \r\n",
        "!wget dataset.data https://QSTOM-IT.com/echanges/etude_de_cas/dataset.data"
      ],
      "execution_count": 2,
      "outputs": [
        {
          "output_type": "stream",
          "text": [
            "--2021-02-28 19:53:00--  http://dataset.data/\n",
            "Resolving dataset.data (dataset.data)... failed: Name or service not known.\n",
            "wget: unable to resolve host address ‘dataset.data’\n",
            "--2021-02-28 19:53:00--  https://qstom-it.com/echanges/etude_de_cas/dataset.data\n",
            "Resolving qstom-it.com (qstom-it.com)... 146.88.237.34\n",
            "Connecting to qstom-it.com (qstom-it.com)|146.88.237.34|:443... connected.\n",
            "HTTP request sent, awaiting response... 200 OK\n",
            "Length: 79793 (78K)\n",
            "Saving to: ‘dataset.data’\n",
            "\n",
            "dataset.data        100%[===================>]  77.92K   391KB/s    in 0.2s    \n",
            "\n",
            "2021-02-28 19:53:01 (391 KB/s) - ‘dataset.data’ saved [79793/79793]\n",
            "\n",
            "FINISHED --2021-02-28 19:53:01--\n",
            "Total wall clock time: 0.7s\n",
            "Downloaded: 1 files, 78K in 0.2s (391 KB/s)\n"
          ],
          "name": "stdout"
        }
      ]
    },
    {
      "cell_type": "markdown",
      "metadata": {
        "id": "QEhPpzmBlTLa"
      },
      "source": [
        "### **2: CONVERSION DU FICHIER TEXTE EN UN DATAFRAME PANDAS**"
      ]
    },
    {
      "cell_type": "code",
      "metadata": {
        "colab": {
          "base_uri": "https://localhost:8080/"
        },
        "id": "kugr-I2NlS7x",
        "outputId": "eb64fe76-3426-41a5-df33-e2ce72a62b8e"
      },
      "source": [
        "import os.path\r\n",
        "from os import path\r\n",
        "\r\n",
        "#Creation d'une variable contenant le chemin supposé du fichier\r\n",
        "fichierPath = '/content/dataset.data'\r\n",
        "\r\n",
        "#Vérification de la présence du fichier\r\n",
        "fichierPresent = path.exists(fichierPath)\r\n",
        "print (\"Le fichier est-il présent ? >> \"+str(path.exists(fichierPath)))\r\n",
        "\r\n",
        "#Si le fichier est présent, alors on le convertit en Data Frame Pandas\r\n",
        "if(fichierPresent):\r\n",
        "\r\n",
        "  #Chargement des lignes du fichier dans un tableau\r\n",
        "  with open(fichierPath) as fichier:\r\n",
        "    lignes = fichier.readlines() #On obtient un tableau\r\n",
        "\r\n",
        "  #Affichage des 5 premières lignes\r\n",
        "  nbLignes = 0\r\n",
        "  for i in range(0,5) :\r\n",
        "    print(lignes[i].strip())\r\n",
        "\r\n",
        "  print(\"---\")\r\n",
        "  print(\"Nombre de lignes du fichier :\",len(lignes))\r\n",
        "\r\n",
        "else :\r\n",
        "  print(\"OUPS... je ne trouve pas le fichier en question.. :-(\")\r\n",
        "\r\n"
      ],
      "execution_count": 10,
      "outputs": [
        {
          "output_type": "stream",
          "text": [
            "Le fichier est-il présent ? >> True\n",
            "A11 6 A34 A43 1169 A65 A75 4 A93 A101 4 A121 67 A143 A152 2 A173 1 A192 A201 1\n",
            "A12 48 A32 A43 5951 A61 A73 2 A92 A101 2 A121 22 A143 A152 1 A173 1 A191 A201 2\n",
            "A14 12 A34 A46 2096 A61 A74 2 A93 A101 3 A121 49 A143 A152 1 A172 2 A191 A201 1\n",
            "A11 42 A32 A42 7882 A61 A74 2 A93 A103 4 A122 45 A143 A153 1 A173 2 A191 A201 1\n",
            "A11 24 A33 A40 4870 A61 A73 3 A93 A101 4 A124 53 A143 A153 2 A173 2 A191 A201 2\n",
            "---\n",
            "Nombre de lignes lues : 1000\n"
          ],
          "name": "stdout"
        }
      ]
    },
    {
      "cell_type": "markdown",
      "metadata": {
        "id": "Xh5VtcBULTRI"
      },
      "source": [
        "\r\n",
        "> Les caractéristiques sont séparées par des espaces"
      ]
    },
    {
      "cell_type": "code",
      "metadata": {
        "id": "YVEPfnRQLtBF",
        "colab": {
          "base_uri": "https://localhost:8080/"
        },
        "outputId": "acafa39e-53ba-4d54-94a6-0065c7e83a14"
      },
      "source": [
        "#Extraction des caracteristiques pour la première observation\r\n",
        "caracteristiquesObs1 = lignes[0].split(\" \")\r\n",
        "print(caracteristiquesObs1)"
      ],
      "execution_count": 11,
      "outputs": [
        {
          "output_type": "stream",
          "text": [
            "['A11', '6', 'A34', 'A43', '1169', 'A65', 'A75', '4', 'A93', 'A101', '4', 'A121', '67', 'A143', 'A152', '2', 'A173', '1', 'A192', 'A201', '1\\n']\n"
          ],
          "name": "stdout"
        }
      ]
    },
    {
      "cell_type": "markdown",
      "metadata": {
        "id": "IEESZE84Ozwf"
      },
      "source": [
        "> Grâce la fonction split qui permet de découper la chaine de caractère à partir d'un élement de séparation (ici l'espace), les caracteristiques sont correctement extraites. Mais on peut voir que la dernière caractéristique comporte un retour chariot qu'il faut supprimer."
      ]
    }
  ]
}